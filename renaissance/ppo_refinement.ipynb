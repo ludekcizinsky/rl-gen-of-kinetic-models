{
 "cells": [
  {
   "cell_type": "code",
   "execution_count": 5,
   "id": "6d7635ac",
   "metadata": {},
   "outputs": [],
   "source": [
    "import numpy as np\n",
    "from matplotlib import pyplot as plt\n",
    "import torch\n",
    "import torch.nn as nn\n",
    "import torch.optim as optim\n",
    "from torch.distributions import Normal\n",
    "\n",
    "import os\n",
    "import renaissance.helper as hp\n",
    "from configparser import ConfigParser\n",
    "\n",
    "from renaissance.kinetics.jacobian_solver import check_jacobian\n",
    "from renaissance.ppo_refinement import PPORefinement"
   ]
  },
  {
   "cell_type": "markdown",
   "id": "9ba82737",
   "metadata": {},
   "source": [
    "# Train PPO agent"
   ]
  },
  {
   "cell_type": "code",
   "execution_count": 2,
   "id": "70e0c58d",
   "metadata": {},
   "outputs": [],
   "source": [
    "#Parse arguments from configfile\n",
    "configs = ConfigParser()\n",
    "configs.read('configfile.ini')\n",
    "\n",
    "n_samples = int(configs['MLP']['n_samples']) # Used by MLP for its internal sampling if any, and for p0 generation.\n",
    "\n",
    "lnminkm = float(configs['CONSTRAINTS']['min_km'])\n",
    "lnmaxkm = float(configs['CONSTRAINTS']['max_km'])\n",
    "\n",
    "repeats = int(configs['EVOSTRAT']['repeats'])\n",
    "generations = int(configs['EVOSTRAT']['generations']) # Will be used as num_iterations for PPO\n",
    "ss_idx = int(configs['EVOSTRAT']['ss_idx'])\n",
    "# n_threads = int(configs['EVOSTRAT']['n_threads']) # PPO collection is currently single-threaded\n",
    "\n",
    "output_path = configs['PATHS']['output_path']\n",
    "met_model = configs['PATHS']['met_model']\n",
    "names_km_config = hp.load_pkl(f'models/{met_model}/parameter_names_km_fdp1.pkl') # Full list of param names\n",
    "\n",
    "# Parameters needed directly by PPORefinement\n",
    "param_dim_config = int(configs['MLP']['no_kms'])\n",
    "latent_dim_config = int(configs['MLP']['latent_dim']) # For z vector in state\n",
    "\n",
    "\n",
    "# Call solvers from SKimPy (Used only for initial messages now)\n",
    "chk_jcbn = check_jacobian()"
   ]
  },
  {
   "cell_type": "code",
   "execution_count": 3,
   "id": "93349eee",
   "metadata": {},
   "outputs": [
    {
     "name": "stdout",
     "output_type": "stream",
     "text": [
      "---- Load kinetic and thermodynamic data\n"
     ]
    },
    {
     "name": "stderr",
     "output_type": "stream",
     "text": [
      "2025-05-15 13:55:40,872 - thermomodel_new - INFO - # Model initialized with units kcal/mol and temperature 298.15 K\n",
      "2025-05-15 13:55:42,338 - Unnamed - WARNING - Non integer stoichiometries found ['CYTBO3_4pp', 'LMPD_biomass_c_1_420', 'CYTBDpp'] change to integer for linear dependencies\n",
      "2025-05-15 13:55:42,627 - Unnamed - WARNING - Non integer stoichiometries found ['CYTBO3_4pp', 'LMPD_biomass_c_1_420', 'CYTBDpp'] change to integer for linear dependencies\n"
     ]
    },
    {
     "name": "stdout",
     "output_type": "stream",
     "text": [
      "---- Load steady state data\n"
     ]
    }
   ],
   "source": [
    "# Integrate data\n",
    "print('---- Load kinetic and thermodynamic data')\n",
    "chk_jcbn._load_ktmodels(met_model, 'fdp1')           ## Load kinetic and thermodynamic data\n",
    "print('---- Load steady state data')\n",
    "chk_jcbn._load_ssprofile(met_model, 'fdp1', ss_idx)  ## Integrate steady state information"
   ]
  },
  {
   "cell_type": "code",
   "execution_count": 4,
   "id": "8ac92538",
   "metadata": {},
   "outputs": [],
   "source": [
    "lambda_partition = -2.5\n",
    "reward_flag = 0\n",
    "\n",
    "def _get_lambda_max(p_tensor_single):\n",
    "    p_numpy = p_tensor_single.detach().cpu().numpy()\n",
    "    # Use the stored chk_jcbn instance\n",
    "    chk_jcbn._prepare_parameters([p_numpy], names_km_config) \n",
    "    max_eig_list = chk_jcbn.calc_eigenvalues_recal_vmax()\n",
    "    max_eig_list.sort()\n",
    "\n",
    "    return max_eig_list\n",
    "\n",
    "def compute_reward(p_tensor_single, n_consider=10):\n",
    "    lambdas_val = _get_lambda_max(p_tensor_single)\n",
    "\n",
    "    if reward_flag == 0:\n",
    "        lambda_max_val = lambdas_val[0]\n",
    "        penalty = np.maximum(0, lambda_max_val)\n",
    "        if lambda_max_val > 100:\n",
    "            lambda_max_val = 100\n",
    "        r = 1.0 / (1.0 + np.exp(lambda_max_val - lambda_partition))\n",
    "        r -= penalty\n",
    "    else:\n",
    "        considered_avg = sum(lambdas_val[:n_consider]) / n_consider\n",
    "        r = np.exp(-0.1 * considered_avg) / 2\n",
    "    # TODO: Right now, we are not using the Incidence part of the reward.\n",
    "\n",
    "    return r\n"
   ]
  },
  {
   "cell_type": "code",
   "execution_count": null,
   "id": "e7f14b34",
   "metadata": {},
   "outputs": [
    {
     "name": "stdout",
     "output_type": "stream",
     "text": [
      "--- Begin PPO refinement strategy\n",
      "Training on cpu. 256 trajectories per update.\n",
      "Iteration 1/100, Avg Batch Final Reward: -196.9942\n",
      "Avg actor loss 0.0133 Avg critic loss 1875300.3250\n"
     ]
    }
   ],
   "source": [
    "print('--- Begin PPO refinement strategy')\n",
    "\n",
    "this_savepath = f'{output_path}/ppo/' \n",
    "os.makedirs(this_savepath, exist_ok=True)\n",
    "\n",
    "ppo_agent = PPORefinement(\n",
    "    param_dim=param_dim_config,\n",
    "    noise_dim=latent_dim_config,\n",
    "    reward_function=compute_reward,\n",
    "    min_x_bounds=lnminkm,\n",
    "    max_x_bounds=lnmaxkm,\n",
    "    ppo_epochs=10,\n",
    "    T_horizon=10,\n",
    "    actor_lr=1e-5,\n",
    "    critic_lr=5e-5,\n",
    "    n_trajectories=256\n",
    ")\n",
    "\n",
    "trained_actor, rewards = ppo_agent.train(num_training_iterations=100, output_path=this_savepath)\n",
    "\n",
    "print(f\"PPO training finished. Rewards log saved to {this_savepath}\")\n"
   ]
  },
  {
   "cell_type": "code",
   "execution_count": null,
   "id": "d76daa3f",
   "metadata": {},
   "outputs": [],
   "source": [
    "def evaluate_policy_incidence(trained_actor, ppo_agent, num_trials=50):\n",
    "    T_HORIZON = ppo_agent.T_horizon\n",
    "    NOISE_DIM = ppo_agent.noise_dim\n",
    "    N_TRIALS = num_trials\n",
    "    incidence = 0\n",
    "    for _ in range(N_TRIALS):\n",
    "        current_params_in_state = ppo_agent._initialize_current_params_for_state().clone()\n",
    "        generated_sequence = []\n",
    "        for _ in range(T_HORIZON):\n",
    "            noise = torch.randn(NOISE_DIM, device=ppo_agent.device)\n",
    "            state_1d = torch.cat((noise, current_params_in_state.detach()), dim=0)\n",
    "            state_batch = state_1d.unsqueeze(0)\n",
    "            with torch.no_grad():\n",
    "                mu_raw, log_std_raw = trained_actor(state_batch)\n",
    "                # For generation, you might want to take the mean (mu_raw) or sample\n",
    "                # action_raw = mu_raw # Deterministic generation\n",
    "                action_raw = Normal(mu_raw, torch.exp(log_std_raw)).sample() # Stochastic generation\n",
    "            \n",
    "            ode_params = ppo_agent._transform_to_bounded(action_raw)\n",
    "            current_params_in_state = ode_params.squeeze(0)\n",
    "            generated_sequence.append(current_params_in_state.cpu().numpy())\n",
    "\n",
    "        final_generated_params = generated_sequence[-1]\n",
    "        final_reward_eval = compute_reward(torch.tensor(final_generated_params, device=ppo_agent.device))\n",
    "        lambda_max = _get_lambda_max(torch.tensor(final_generated_params, device=ppo_agent.device))[0]\n",
    "        if lambda_max < -2.5:\n",
    "            incidence += 1\n",
    "        print(f\"Final lambda_max: {lambda_max:.4f}\")\n",
    "        print(f\"Final reward: {final_reward_eval:.4f}\")\n",
    "    print(f\"Incidence over {N_TRIALS} trials: {incidence}/{N_TRIALS} = {incidence/N_TRIALS:.2f}\")\n"
   ]
  },
  {
   "cell_type": "code",
   "execution_count": null,
   "id": "c091e370",
   "metadata": {},
   "outputs": [
    {
     "name": "stdout",
     "output_type": "stream",
     "text": [
      "Final lambda_max: 69.4703\n",
      "Final reward: -69.4703\n",
      "Final lambda_max: 73.0140\n",
      "Final reward: -73.0140\n",
      "Final lambda_max: 72.2073\n",
      "Final reward: -72.2073\n",
      "Final lambda_max: 69.2726\n",
      "Final reward: -69.2726\n",
      "Final lambda_max: 69.0081\n",
      "Final reward: -69.0081\n",
      "Final lambda_max: 69.3999\n",
      "Final reward: -69.3999\n",
      "Final lambda_max: 73.5059\n",
      "Final reward: -73.5059\n",
      "Final lambda_max: 74.9172\n",
      "Final reward: -74.9172\n",
      "Final lambda_max: 67.6325\n",
      "Final reward: -67.6325\n",
      "Final lambda_max: 66.7483\n",
      "Final reward: -66.7483\n",
      "Final lambda_max: 69.9099\n",
      "Final reward: -69.9099\n",
      "Final lambda_max: 66.9351\n",
      "Final reward: -66.9351\n",
      "Final lambda_max: 69.5804\n",
      "Final reward: -69.5804\n",
      "Final lambda_max: 68.9582\n",
      "Final reward: -68.9582\n",
      "Final lambda_max: 69.6110\n",
      "Final reward: -69.6110\n",
      "Final lambda_max: 70.0161\n",
      "Final reward: -70.0161\n",
      "Final lambda_max: 68.8618\n",
      "Final reward: -68.8618\n",
      "Final lambda_max: 67.1279\n",
      "Final reward: -67.1279\n",
      "Final lambda_max: 71.2430\n",
      "Final reward: -71.2430\n",
      "Final lambda_max: 70.7899\n",
      "Final reward: -70.7899\n",
      "Final lambda_max: 69.5537\n",
      "Final reward: -69.5537\n",
      "Final lambda_max: 71.2967\n",
      "Final reward: -71.2967\n",
      "Final lambda_max: 69.9129\n",
      "Final reward: -69.9129\n",
      "Final lambda_max: 65.8330\n",
      "Final reward: -65.8330\n",
      "Final lambda_max: 69.4765\n",
      "Final reward: -69.4765\n",
      "Final lambda_max: 71.1672\n",
      "Final reward: -71.1672\n",
      "Final lambda_max: 72.3731\n",
      "Final reward: -72.3731\n",
      "Final lambda_max: 68.7662\n",
      "Final reward: -68.7662\n",
      "Final lambda_max: 72.5076\n",
      "Final reward: -72.5076\n",
      "Final lambda_max: 70.3220\n",
      "Final reward: -70.3220\n",
      "Final lambda_max: 71.0186\n",
      "Final reward: -71.0186\n",
      "Final lambda_max: 69.3415\n",
      "Final reward: -69.3415\n",
      "Final lambda_max: 68.6893\n",
      "Final reward: -68.6893\n",
      "Final lambda_max: 71.5464\n",
      "Final reward: -71.5464\n",
      "Final lambda_max: 73.3978\n",
      "Final reward: -73.3978\n",
      "Final lambda_max: 68.9301\n",
      "Final reward: -68.9301\n",
      "Final lambda_max: 70.5182\n",
      "Final reward: -70.5182\n",
      "Final lambda_max: 70.1552\n",
      "Final reward: -70.1552\n",
      "Final lambda_max: 69.3159\n",
      "Final reward: -69.3159\n",
      "Final lambda_max: 68.0145\n",
      "Final reward: -68.0145\n",
      "Final lambda_max: 69.8052\n",
      "Final reward: -69.8052\n",
      "Final lambda_max: 70.9273\n",
      "Final reward: -70.9273\n",
      "Final lambda_max: 69.3329\n",
      "Final reward: -69.3329\n",
      "Final lambda_max: 69.9595\n",
      "Final reward: -69.9595\n",
      "Final lambda_max: 72.2722\n",
      "Final reward: -72.2722\n",
      "Final lambda_max: 68.7343\n",
      "Final reward: -68.7343\n",
      "Final lambda_max: 70.7491\n",
      "Final reward: -70.7491\n",
      "Final lambda_max: 70.4280\n",
      "Final reward: -70.4280\n",
      "Final lambda_max: 67.3397\n",
      "Final reward: -67.3397\n",
      "Final lambda_max: 69.5873\n",
      "Final reward: -69.5873\n",
      "Incidence over 50 trials: 0/50 = 0.00\n"
     ]
    }
   ],
   "source": [
    "evaluate_policy_incidence(trained_actor, ppo_agent, num_trials=50)"
   ]
  },
  {
   "cell_type": "code",
   "execution_count": 10,
   "id": "accc0e2b",
   "metadata": {},
   "outputs": [
    {
     "data": {
      "text/plain": [
       "'output/ppo-refinement//ppo/'"
      ]
     },
     "execution_count": 10,
     "metadata": {},
     "output_type": "execute_result"
    }
   ],
   "source": [
    "this_savepath"
   ]
  },
  {
   "cell_type": "code",
   "execution_count": null,
   "id": "e40337a9",
   "metadata": {},
   "outputs": [
    {
     "data": {
      "text/plain": [
       "['ppo-refinement']"
      ]
     },
     "execution_count": 11,
     "metadata": {},
     "output_type": "execute_result"
    }
   ],
   "source": [
    "os.listdir(\"output/ppo-refini\")"
   ]
  },
  {
   "cell_type": "code",
   "execution_count": 13,
   "id": "de9fac71",
   "metadata": {},
   "outputs": [],
   "source": [
    "# load results\n",
    "path = \"output/ppo-refinement/ppo_repeat_0/ppo_iteration_rewards.pkl\"\n",
    "rewards = np.load(path, allow_pickle=True)"
   ]
  },
  {
   "cell_type": "code",
   "execution_count": 14,
   "id": "00794d6e",
   "metadata": {},
   "outputs": [
    {
     "data": {
      "text/plain": [
       "[<matplotlib.lines.Line2D at 0x7d6b834c1fd0>]"
      ]
     },
     "execution_count": 14,
     "metadata": {},
     "output_type": "execute_result"
    },
    {
     "data": {
      "image/png": "[encoded data removed]",
      "text/plain": [
       "<Figure size 432x288 with 1 Axes>"
      ]
     },
     "metadata": {
      "needs_background": "light"
     },
     "output_type": "display_data"
    }
   ],
   "source": [
    "plt.plot(rewards)"
   ]
  },
  {
   "cell_type": "markdown",
   "id": "257e4036",
   "metadata": {},
   "source": []
  }
 ],
 "metadata": {
  "kernelspec": {
   "display_name": "Python 3",
   "language": "python",
   "name": "python3"
  },
  "language_info": {
   "codemirror_mode": {
    "name": "ipython",
    "version": 3
   },
   "file_extension": ".py",
   "mimetype": "text/x-python",
   "name": "python",
   "nbconvert_exporter": "python",
   "pygments_lexer": "ipython3",
   "version": "3.6.15"
  }
 },
 "nbformat": 4,
 "nbformat_minor": 5
}
