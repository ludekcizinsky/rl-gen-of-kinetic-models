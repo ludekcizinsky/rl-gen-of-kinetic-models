{
 "cells": [
  {
   "cell_type": "code",
   "execution_count": 5,
   "id": "c318d5bc",
   "metadata": {},
   "outputs": [
    {
     "data": {
      "text/plain": [
       "hydra.initialize()"
      ]
     },
     "execution_count": 5,
     "metadata": {},
     "output_type": "execute_result"
    }
   ],
   "source": [
    "from functools import partial\n",
    "\n",
    "import hydra\n",
    "from omegaconf import DictConfig, OmegaConf\n",
    "\n",
    "from renaissance.kinetics.jacobian_solver import check_jacobian\n",
    "\n",
    "from helpers.ppo_agent import PPOAgent\n",
    "from helpers.env import KineticEnv\n",
    "from helpers.utils import reward_func, load_pkl\n",
    "\n",
    "import logging\n",
    "from hydra import initialize, compose\n",
    "initialize(config_path=\"configs\", version_base=\"1.1\")\n"
   ]
  },
  {
   "cell_type": "code",
   "execution_count": 10,
   "id": "dff6e177",
   "metadata": {},
   "outputs": [],
   "source": [
    "cfg = compose(config_name=\"train.yaml\")"
   ]
  },
  {
   "cell_type": "code",
   "execution_count": 7,
   "id": "ae697f6a",
   "metadata": {},
   "outputs": [
    {
     "name": "stdout",
     "output_type": "stream",
     "text": [
      "--------------------------------------------------\n",
      "method:\n",
      "  parameter_dim: 384\n",
      "  latent_dim: 99\n",
      "  name: ppo_refinement\n",
      "  actor_lr: 0.0003\n",
      "  critic_lr: 0.001\n",
      "  discount_factor: 0.99\n",
      "  gae_lambda: 0.98\n",
      "  clip_eps: 0.2\n",
      "  value_loss_weight: 0.5\n",
      "  entropy_loss_weight: 0.0\n",
      "seed: 42\n",
      "device: cpu\n",
      "logger:\n",
      "  project: rl-renaissance\n",
      "  entity: ludekcizinsky\n",
      "  tags:\n",
      "  - dev\n",
      "paths:\n",
      "  names_km: data/varma_ecoli_shikki/parameter_names_km_fdp1.pkl\n",
      "  output_dir: /home/renaissance/output\n",
      "  met_model_name: varma_ecoli_shikki\n",
      "constraints:\n",
      "  min_km: -25\n",
      "  max_km: 3\n",
      "  ss_idx: 1712\n",
      "reward:\n",
      "  eig_partition: -2.5\n",
      "env:\n",
      "  p0_init_mean: 0\n",
      "  p0_init_std: 0.1\n",
      "  p_size: 384\n",
      "training:\n",
      "  num_episodes: 100\n",
      "  max_steps_per_episode: 50\n",
      "  batch_size: 25\n",
      "  num_epochs: 10\n",
      "  max_grad_norm: 0.5\n",
      "\n",
      "--------------------------------------------------\n",
      "FYI: Loading kinetic and thermodynamic data.\n"
     ]
    }
   ],
   "source": [
    "print(\"-\" * 50)\n",
    "print(OmegaConf.to_yaml(cfg))  # print config to verify\n",
    "print(\"-\" * 50)\n",
    "\n",
    "# Call solvers from SKimPy\n",
    "chk_jcbn = check_jacobian()\n",
    "logging.disable(logging.CRITICAL)\n",
    "\n",
    "# Integrate data\n",
    "print(\"FYI: Loading kinetic and thermodynamic data.\")\n",
    "chk_jcbn._load_ktmodels(cfg.paths.met_model_name, 'fdp1') # Load kinetic and thermodynamic data\n",
    "chk_jcbn._load_ssprofile(cfg.paths.met_model_name, 'fdp1', cfg.constraints.ss_idx) # Integrate steady state information\n",
    "\n",
    "# Logger setup, todo: for now disabled, else we would get w&b run object\n",
    "logger = None # get_logger(cfg)\n"
   ]
  },
  {
   "cell_type": "code",
   "execution_count": null,
   "id": "701b6725",
   "metadata": {},
   "outputs": [],
   "source": [
    "# Initialize environment\n",
    "names_km = load_pkl(cfg.paths.names_km)\n",
    "reward_fn = partial(reward_func, chk_jcbn, names_km, cfg.reward.eig_partition)\n",
    "env = KineticEnv(cfg, reward_fn)\n",
    "env.seed(cfg.seed)"
   ]
  },
  {
   "cell_type": "code",
   "execution_count": 11,
   "id": "2b6d1ce5",
   "metadata": {},
   "outputs": [
    {
     "data": {
      "text/plain": [
       "'/home/renaissance/work/output'"
      ]
     },
     "execution_count": 11,
     "metadata": {},
     "output_type": "execute_result"
    }
   ],
   "source": [
    "cfg.paths.output_dir"
   ]
  },
  {
   "cell_type": "code",
   "execution_count": 13,
   "id": "9f4442a7",
   "metadata": {},
   "outputs": [],
   "source": [
    "import numpy as np\n",
    "\n",
    "np.save(cfg.paths.output_dir + 'lol.npy', [1, 2, 3])"
   ]
  },
  {
   "cell_type": "code",
   "execution_count": null,
   "id": "4d74c8cd",
   "metadata": {},
   "outputs": [],
   "source": [
    "# Initialize PPO agent (actor and critic)\n",
    "ppo_agent = PPOAgent(cfg, logger)\n",
    "\n",
    "collect_rewards = []\n",
    "collect_policy_loss = []\n",
    "collect_value_loss = []\n",
    "# Training loop\n",
    "for episode in range(cfg.training.num_episodes):\n",
    "    trajectory = ppo_agent.collect_trajectory(env)\n",
    "    rewards = trajectory[\"rewards\"]\n",
    "    collect_rewards.append(rewards)\n",
    "    min_rew, max_rew, mean_rew = rewards.min(), rewards.max(), rewards.mean()\n",
    "    print(f\"Episode {episode+1}/{cfg.training.num_episodes} - Min reward: {min_rew:.4f}, Max reward: {max_rew:.4f}, Mean reward: {mean_rew:.4f}, Last reward: {rewards[-1]:.4f}\")\n",
    "\n",
    "    policy_loss, value_loss, entropy = ppo_agent.update(trajectory)\n",
    "    print(f\"Episode {episode+1}/{cfg.training.num_episodes} - Policy loss: {policy_loss:.4f}, Value loss: {value_loss:.4f}, Entropy: {entropy:.4f}\")\n"
   ]
  },
  {
   "cell_type": "code",
   "execution_count": null,
   "id": "4e94c813",
   "metadata": {},
   "outputs": [],
   "source": []
  }
 ],
 "metadata": {
  "kernelspec": {
   "display_name": "Python 3",
   "language": "python",
   "name": "python3"
  },
  "language_info": {
   "codemirror_mode": {
    "name": "ipython",
    "version": 3
   },
   "file_extension": ".py",
   "mimetype": "text/x-python",
   "name": "python",
   "nbconvert_exporter": "python",
   "pygments_lexer": "ipython3",
   "version": "3.6.15"
  }
 },
 "nbformat": 4,
 "nbformat_minor": 5
}
